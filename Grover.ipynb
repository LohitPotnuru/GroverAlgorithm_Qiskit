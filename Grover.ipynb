{
 "cells": [
  {
   "cell_type": "code",
   "execution_count": 2,
   "metadata": {},
   "outputs": [],
   "source": [
    "import math\n",
    "from qiskit import *\n",
    "import numpy as np"
   ]
  },
  {
   "cell_type": "code",
   "execution_count": 3,
   "metadata": {},
   "outputs": [
    {
     "name": "stdout",
     "output_type": "stream",
     "text": [
      "1\n"
     ]
    }
   ],
   "source": [
    "#N is # items that are being searched through\n",
    "N=2\n",
    "#x is the # of iterations\n",
    "x=((math.sqrt(2))*math.pi)/4\n",
    "print(int(x))"
   ]
  },
  {
   "cell_type": "code",
   "execution_count": 53,
   "metadata": {},
   "outputs": [],
   "source": [
    "#set oracle for algorithm- in this case oracle is toffoli gate\n",
    "def oracle(circuit):\n",
    "    circuit.h(0)\n",
    "    circuit.cx(1,0)\n",
    "    circuit.tdg(0)\n",
    "    circuit.cx(2,0)\n",
    "    circuit.t(0)\n",
    "    circuit.cx(1,0)\n",
    "    circuit.tdg(0)\n",
    "    circuit.cx(2,0)\n",
    "    circuit.t(0)\n",
    "    circuit.tdg(1)\n",
    "    circuit.h(0)\n",
    "    circuit.cx(2,1)\n",
    "    circuit.tdg(1)\n",
    "    circuit.cx(2,1)\n",
    "    circuit.s(1)\n",
    "    circuit.t(2)\n",
    "    return circuit\n",
    "#alternate oracle for same problem with controled z gate\n",
    "def oracle2(circuit):\n",
    "    circuit.cz(1,2)\n",
    "    return circuit\n",
    "#set grover operator for algorithm\n",
    "def grover(circuit):\n",
    "    circuit=oracle2(circuit)\n",
    "    circuit.h([1,2])\n",
    "    circuit.x([1,2])\n",
    "    circuit.h(1)\n",
    "    circuit.cx(2,1)\n",
    "    circuit.h(1)\n",
    "    circuit.x([1,2])\n",
    "    circuit.h([1,2])\n",
    "    return circuit"
   ]
  },
  {
   "cell_type": "code",
   "execution_count": 54,
   "metadata": {},
   "outputs": [
    {
     "data": {
      "text/html": [
       "<pre style=\"word-wrap: normal;white-space: pre;background: #fff0;line-height: 1.1;font-family: &quot;Courier New&quot;,Courier,monospace\">     ┌───┐┌───┐                                      \n",
       "q_0: ┤ X ├┤ H ├──────────────────────────────────────\n",
       "     ├───┤└───┘┌───┐┌───┐┌───┐┌───┐┌───┐┌───┐┌───┐┌─┐\n",
       "q_1: ┤ H ├──■──┤ H ├┤ X ├┤ H ├┤ X ├┤ H ├┤ X ├┤ H ├┤M├\n",
       "     ├───┤  │  ├───┤├───┤└───┘└─┬─┘├───┤├───┤└┬─┬┘└╥┘\n",
       "q_2: ┤ H ├──■──┤ H ├┤ X ├───────■──┤ X ├┤ H ├─┤M├──╫─\n",
       "     └───┘     └───┘└───┘          └───┘└───┘ └╥┘  ║ \n",
       "c: 2/══════════════════════════════════════════╩═══╩═\n",
       "                                               1   0 </pre>"
      ],
      "text/plain": [
       "     ┌───┐┌───┐                                      \n",
       "q_0: ┤ X ├┤ H ├──────────────────────────────────────\n",
       "     ├───┤└───┘┌───┐┌───┐┌───┐┌───┐┌───┐┌───┐┌───┐┌─┐\n",
       "q_1: ┤ H ├──■──┤ H ├┤ X ├┤ H ├┤ X ├┤ H ├┤ X ├┤ H ├┤M├\n",
       "     ├───┤  │  ├───┤├───┤└───┘└─┬─┘├───┤├───┤└┬─┬┘└╥┘\n",
       "q_2: ┤ H ├──■──┤ H ├┤ X ├───────■──┤ X ├┤ H ├─┤M├──╫─\n",
       "     └───┘     └───┘└───┘          └───┘└───┘ └╥┘  ║ \n",
       "c: 2/══════════════════════════════════════════╩═══╩═\n",
       "                                               1   0 "
      ]
     },
     "execution_count": 54,
     "metadata": {},
     "output_type": "execute_result"
    }
   ],
   "source": [
    "circuit=QuantumCircuit(3,2)\n",
    "#state initialization: q[0] is the ancilla\n",
    "circuit.x(0)\n",
    "circuit.h(range(3))\n",
    "#apply grover operater sqrt(n)*pi/4 times\n",
    "for i in range(0,int(x)):\n",
    "    circuit=grover(circuit)\n",
    "#measure q1 and q2\n",
    "circuit.measure([1,2],range(2))\n",
    "circuit.draw()"
   ]
  },
  {
   "cell_type": "code",
   "execution_count": 55,
   "metadata": {},
   "outputs": [],
   "source": [
    "#use Aer's qasm_simulater to execute\n",
    "backend = BasicAer.get_backend('qasm_simulator')\n",
    "#execute+ get results\n",
    "result = execute(circuit, backend, shots = 1000).result()\n",
    "#get counts of results\n",
    "counts = result.get_counts()"
   ]
  },
  {
   "cell_type": "code",
   "execution_count": 56,
   "metadata": {},
   "outputs": [
    {
     "name": "stdout",
     "output_type": "stream",
     "text": [
      "{'11': 1000}\n"
     ]
    }
   ],
   "source": [
    "print(counts)"
   ]
  },
  {
   "cell_type": "code",
   "execution_count": 52,
   "metadata": {},
   "outputs": [
    {
     "data": {
      "text/html": [
       "<pre style=\"word-wrap: normal;white-space: pre;background: #fff0;line-height: 1.1;font-family: &quot;Courier New&quot;,Courier,monospace\">        \n",
       "q_0: ─■─\n",
       "      │ \n",
       "q_1: ─■─\n",
       "        </pre>"
      ],
      "text/plain": [
       "        \n",
       "q_0: ─■─\n",
       "      │ \n",
       "q_1: ─■─\n",
       "        "
      ]
     },
     "execution_count": 52,
     "metadata": {},
     "output_type": "execute_result"
    }
   ],
   "source": [
    "test=QuantumCircuit(2)\n",
    "test.cz(0,1)\n",
    "test.draw()"
   ]
  },
  {
   "cell_type": "code",
   "execution_count": null,
   "metadata": {},
   "outputs": [],
   "source": []
  }
 ],
 "metadata": {
  "kernelspec": {
   "display_name": "Python (quantumEnv)",
   "language": "python",
   "name": "quantumenv"
  },
  "language_info": {
   "codemirror_mode": {
    "name": "ipython",
    "version": 3
   },
   "file_extension": ".py",
   "mimetype": "text/x-python",
   "name": "python",
   "nbconvert_exporter": "python",
   "pygments_lexer": "ipython3",
   "version": "3.9.2"
  }
 },
 "nbformat": 4,
 "nbformat_minor": 4
}
